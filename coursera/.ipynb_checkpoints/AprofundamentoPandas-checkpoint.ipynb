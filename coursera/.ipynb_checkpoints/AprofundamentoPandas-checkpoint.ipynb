{
 "cells": [
  {
   "cell_type": "markdown",
   "metadata": {},
   "source": [
    "Series :: intermediário entre lista e dicionários\n",
    "Principais estruturas do pandas\n",
    "\n",
    "Dados indefinidos ou não conhecidos\n",
    ":: Tipos None, NaN (not a number), função isnan(valor)\n",
    "\n",
    "Vetorização :: permite o uso de paralelismo de operações (sobretudo matemáticas) sobre objetos Series e DataFrame\n",
    "\n",
    "função _sum_ da biblioteca Numpy pode ser chamada sobre um objeto Series\n",
    "\n",
    "Função mágica _timeit_. Ver livro texto.\n",
    "\n",
    "_Broadcasting_ :: ferramentas Numpy e Pandas que permitem a operação sobre todo o conjunto (Serie)\n",
    "\n",
    "# DataFrame\n",
    "\n"
   ]
  }
 ],
 "metadata": {
  "kernelspec": {
   "display_name": "Python 3",
   "language": "python",
   "name": "python3"
  },
  "language_info": {
   "codemirror_mode": {
    "name": "ipython",
    "version": 3
   },
   "file_extension": ".py",
   "mimetype": "text/x-python",
   "name": "python",
   "nbconvert_exporter": "python",
   "pygments_lexer": "ipython3",
   "version": "3.7.1"
  }
 },
 "nbformat": 4,
 "nbformat_minor": 2
}
