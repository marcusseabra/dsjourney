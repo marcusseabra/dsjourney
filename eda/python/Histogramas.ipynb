{
 "cells": [
  {
   "cell_type": "code",
   "execution_count": null,
   "metadata": {},
   "outputs": [],
   "source": [
    "import pandas as pd\n",
    "import matplotlib.pyplot as plt\n",
    "\n",
    "flights = pd.read_csv('eda/data/formatted_flights.csv')\n",
    "flights.head(10)"
   ]
  },
  {
   "cell_type": "code",
   "execution_count": 3,
   "metadata": {},
   "outputs": [
    {
     "data": {
      "text/plain": [
       "count    317113.000000\n",
       "mean          1.297143\n",
       "std          29.064401\n",
       "min         -60.000000\n",
       "25%         -17.000000\n",
       "50%          -6.000000\n",
       "75%          11.000000\n",
       "max         120.000000\n",
       "Name: arr_delay, dtype: float64"
      ]
     },
     "execution_count": 3,
     "metadata": {},
     "output_type": "execute_result"
    }
   ],
   "source": [
    "flights['arr_delay'].describe()"
   ]
  },
  {
   "cell_type": "code",
   "execution_count": 5,
   "metadata": {},
   "outputs": [
    {
     "data": {
      "text/plain": [
       "(array([  276.,   636.,  1394.,  2820.,  5339.,  9420., 15551., 23546.,\n",
       "        31319., 34857., 33790., 29786., 24391., 19028., 14894., 11324.,\n",
       "         8815.,  7159.,  5908.,  4896.,  4130.,  3630.,  3139.,  2782.,\n",
       "         2455.,  2179.,  1973.,  1805.,  1646.,  1454.,  1360.,  1286.,\n",
       "         1167.,  1013.,   945.,  1000.]),\n",
       " array([-60., -55., -50., -45., -40., -35., -30., -25., -20., -15., -10.,\n",
       "         -5.,   0.,   5.,  10.,  15.,  20.,  25.,  30.,  35.,  40.,  45.,\n",
       "         50.,  55.,  60.,  65.,  70.,  75.,  80.,  85.,  90.,  95., 100.,\n",
       "        105., 110., 115., 120.]),\n",
       " <a list of 36 Patch objects>)"
      ]
     },
     "execution_count": 5,
     "metadata": {},
     "output_type": "execute_result"
    },
    {
     "data": {
      "image/png": "[encoded data removed]",
      "text/plain": [
       "<Figure size 432x288 with 1 Axes>"
      ]
     },
     "metadata": {
      "needs_background": "light"
     },
     "output_type": "display_data"
    }
   ],
   "source": [
    "# Geração de histograma com matplotlib\n",
    "# O parâmetro 'bins' guarda a quantidade de bins do histograma. Neste caso, é dado pela faixa dos valores mínimo e máximo\n",
    "# pelo tamanho dos bins (5 minutos)\n",
    "plt.hist(flights['arr_delay'], color = 'green', edgecolor = 'black', bins = int(180/5))"
   ]
  },
  {
   "cell_type": "code",
   "execution_count": null,
   "metadata": {
    "collapsed": true
   },
   "outputs": [],
   "source": []
  }
 ],
 "metadata": {
  "kernelspec": {
   "display_name": "Python 3",
   "language": "python",
   "name": "python3"
  },
  "language_info": {
   "codemirror_mode": {
    "name": "ipython",
    "version": 3
   },
   "file_extension": ".py",
   "mimetype": "text/x-python",
   "name": "python",
   "nbconvert_exporter": "python",
   "pygments_lexer": "ipython3",
   "version": "3.6.3"
  }
 },
 "nbformat": 4,
 "nbformat_minor": 2
}
