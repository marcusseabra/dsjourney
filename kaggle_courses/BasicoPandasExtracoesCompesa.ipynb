{
 "cells": [
  {
   "cell_type": "code",
   "execution_count": 1,
   "metadata": {
    "collapsed": true
   },
   "outputs": [],
   "source": [
    "import pandas as pd\n",
    "import csv\n",
    "import os"
   ]
  },
  {
   "cell_type": "markdown",
   "metadata": {},
   "source": [
    "Estabelecendo pastas para entrada e saída de dados, bem como o arquivo .csv a ser analisado"
   ]
  },
  {
   "cell_type": "code",
   "execution_count": 2,
   "metadata": {
    "collapsed": true
   },
   "outputs": [],
   "source": [
    "DATADIR = '/home/seabra/Documentos/analise_dados'\n",
    "DATADIR_DESTINO = '/home/seabra/Documentos/analise_dados/saida'"
   ]
  },
  {
   "cell_type": "code",
   "execution_count": 3,
   "metadata": {
    "collapsed": true
   },
   "outputs": [],
   "source": [
    "ARQUIVO_ENTRADA = 'consumo_faturado_agua.csv'"
   ]
  },
  {
   "cell_type": "code",
   "execution_count": 21,
   "metadata": {},
   "outputs": [],
   "source": [
    "consumo_faturado = pd.read_csv(os.path.join(DATADIR, ARQUIVO_ENTRADA), sep=';')"
   ]
  },
  {
   "cell_type": "code",
   "execution_count": 22,
   "metadata": {},
   "outputs": [
    {
     "data": {
      "text/plain": [
       "(4207250, 9)"
      ]
     },
     "execution_count": 22,
     "metadata": {},
     "output_type": "execute_result"
    }
   ],
   "source": [
    "consumo_faturado.shape"
   ]
  },
  {
   "cell_type": "code",
   "execution_count": 19,
   "metadata": {},
   "outputs": [
    {
     "data": {
      "text/html": [
       "<div>\n",
       "<style scoped>\n",
       "    .dataframe tbody tr th:only-of-type {\n",
       "        vertical-align: middle;\n",
       "    }\n",
       "\n",
       "    .dataframe tbody tr th {\n",
       "        vertical-align: top;\n",
       "    }\n",
       "\n",
       "    .dataframe thead th {\n",
       "        text-align: right;\n",
       "    }\n",
       "</style>\n",
       "<table border=\"1\" class=\"dataframe\">\n",
       "  <thead>\n",
       "    <tr style=\"text-align: right;\">\n",
       "      <th></th>\n",
       "      <th>RECA_ID</th>\n",
       "      <th>MUNI_ID</th>\n",
       "      <th>MUNICIPIO</th>\n",
       "      <th>LOCA_ID</th>\n",
       "      <th>LOCALIDADE</th>\n",
       "      <th>RECA_CONSUMOAGUA</th>\n",
       "      <th>RECA_VOCONSUMOFATURADO</th>\n",
       "      <th>RECA_ICHIDROMETRO</th>\n",
       "      <th>CATG_ID</th>\n",
       "    </tr>\n",
       "  </thead>\n",
       "  <tbody>\n",
       "    <tr>\n",
       "      <th>0</th>\n",
       "      <td>123835935</td>\n",
       "      <td>790</td>\n",
       "      <td>JABOATAO DOS GUARARAPES</td>\n",
       "      <td>341.0</td>\n",
       "      <td>PRAZERES</td>\n",
       "      <td>1.0</td>\n",
       "      <td>10.0</td>\n",
       "      <td>1.0</td>\n",
       "      <td>1.0</td>\n",
       "    </tr>\n",
       "    <tr>\n",
       "      <th>1</th>\n",
       "      <td>123835936</td>\n",
       "      <td>1160</td>\n",
       "      <td>RECIFE</td>\n",
       "      <td>342.0</td>\n",
       "      <td>JANGADINHA</td>\n",
       "      <td>37.0</td>\n",
       "      <td>37.0</td>\n",
       "      <td>1.0</td>\n",
       "      <td>1.0</td>\n",
       "    </tr>\n",
       "    <tr>\n",
       "      <th>2</th>\n",
       "      <td>123835938</td>\n",
       "      <td>1450</td>\n",
       "      <td>SURUBIM</td>\n",
       "      <td>145.0</td>\n",
       "      <td>SURUBIM</td>\n",
       "      <td>30.0</td>\n",
       "      <td>30.0</td>\n",
       "      <td>1.0</td>\n",
       "      <td>1.0</td>\n",
       "    </tr>\n",
       "    <tr>\n",
       "      <th>3</th>\n",
       "      <td>123835941</td>\n",
       "      <td>290</td>\n",
       "      <td>CABO DE SANTO AGOSTINHO</td>\n",
       "      <td>171.0</td>\n",
       "      <td>PONTE DOS CARVALHOS</td>\n",
       "      <td>14.0</td>\n",
       "      <td>14.0</td>\n",
       "      <td>1.0</td>\n",
       "      <td>1.0</td>\n",
       "    </tr>\n",
       "    <tr>\n",
       "      <th>4</th>\n",
       "      <td>123835947</td>\n",
       "      <td>80</td>\n",
       "      <td>ALTINHO</td>\n",
       "      <td>8.0</td>\n",
       "      <td>ALTINHO</td>\n",
       "      <td>25.0</td>\n",
       "      <td>25.0</td>\n",
       "      <td>1.0</td>\n",
       "      <td>1.0</td>\n",
       "    </tr>\n",
       "  </tbody>\n",
       "</table>\n",
       "</div>"
      ],
      "text/plain": [
       "     RECA_ID  MUNI_ID                MUNICIPIO  LOCA_ID           LOCALIDADE  \\\n",
       "0  123835935      790  JABOATAO DOS GUARARAPES    341.0             PRAZERES   \n",
       "1  123835936     1160                   RECIFE    342.0           JANGADINHA   \n",
       "2  123835938     1450                  SURUBIM    145.0              SURUBIM   \n",
       "3  123835941      290  CABO DE SANTO AGOSTINHO    171.0  PONTE DOS CARVALHOS   \n",
       "4  123835947       80                  ALTINHO      8.0              ALTINHO   \n",
       "\n",
       "   RECA_CONSUMOAGUA  RECA_VOCONSUMOFATURADO  RECA_ICHIDROMETRO  CATG_ID  \n",
       "0               1.0                    10.0                1.0      1.0  \n",
       "1              37.0                    37.0                1.0      1.0  \n",
       "2              30.0                    30.0                1.0      1.0  \n",
       "3              14.0                    14.0                1.0      1.0  \n",
       "4              25.0                    25.0                1.0      1.0  "
      ]
     },
     "execution_count": 19,
     "metadata": {},
     "output_type": "execute_result"
    }
   ],
   "source": [
    "consumo_faturado.head()"
   ]
  },
  {
   "cell_type": "markdown",
   "metadata": {},
   "source": [
    "Uma coluna do arquivo .csv pode ser especificada para ser o índice do DataFrame"
   ]
  },
  {
   "cell_type": "code",
   "execution_count": 20,
   "metadata": {},
   "outputs": [
    {
     "name": "stderr",
     "output_type": "stream",
     "text": [
      "/home/seabra/anaconda3/lib/python3.6/site-packages/numpy/lib/arraysetops.py:522: FutureWarning: elementwise comparison failed; returning scalar instead, but in the future will perform elementwise comparison\n",
      "  mask |= (ar1 == a)\n"
     ]
    }
   ],
   "source": [
    "consumo_faturado = pd.read_csv(os.path.join(DATADIR, ARQUIVO_ENTRADA), sep=';', index_col=0)"
   ]
  },
  {
   "cell_type": "code",
   "execution_count": 15,
   "metadata": {},
   "outputs": [
    {
     "data": {
      "text/html": [
       "<div>\n",
       "<style scoped>\n",
       "    .dataframe tbody tr th:only-of-type {\n",
       "        vertical-align: middle;\n",
       "    }\n",
       "\n",
       "    .dataframe tbody tr th {\n",
       "        vertical-align: top;\n",
       "    }\n",
       "\n",
       "    .dataframe thead th {\n",
       "        text-align: right;\n",
       "    }\n",
       "</style>\n",
       "<table border=\"1\" class=\"dataframe\">\n",
       "  <thead>\n",
       "    <tr style=\"text-align: right;\">\n",
       "      <th></th>\n",
       "      <th>MUNI_ID</th>\n",
       "      <th>MUNICIPIO</th>\n",
       "      <th>LOCA_ID</th>\n",
       "      <th>LOCALIDADE</th>\n",
       "      <th>RECA_CONSUMOAGUA</th>\n",
       "      <th>RECA_VOCONSUMOFATURADO</th>\n",
       "      <th>RECA_ICHIDROMETRO</th>\n",
       "      <th>CATG_ID</th>\n",
       "    </tr>\n",
       "    <tr>\n",
       "      <th>RECA_ID</th>\n",
       "      <th></th>\n",
       "      <th></th>\n",
       "      <th></th>\n",
       "      <th></th>\n",
       "      <th></th>\n",
       "      <th></th>\n",
       "      <th></th>\n",
       "      <th></th>\n",
       "    </tr>\n",
       "  </thead>\n",
       "  <tbody>\n",
       "    <tr>\n",
       "      <th>123835935</th>\n",
       "      <td>790.0</td>\n",
       "      <td>JABOATAO DOS GUARARAPES</td>\n",
       "      <td>341.0</td>\n",
       "      <td>PRAZERES</td>\n",
       "      <td>1.0</td>\n",
       "      <td>10.0</td>\n",
       "      <td>1.0</td>\n",
       "      <td>1.0</td>\n",
       "    </tr>\n",
       "    <tr>\n",
       "      <th>123835936</th>\n",
       "      <td>1160.0</td>\n",
       "      <td>RECIFE</td>\n",
       "      <td>342.0</td>\n",
       "      <td>JANGADINHA</td>\n",
       "      <td>37.0</td>\n",
       "      <td>37.0</td>\n",
       "      <td>1.0</td>\n",
       "      <td>1.0</td>\n",
       "    </tr>\n",
       "    <tr>\n",
       "      <th>123835938</th>\n",
       "      <td>1450.0</td>\n",
       "      <td>SURUBIM</td>\n",
       "      <td>145.0</td>\n",
       "      <td>SURUBIM</td>\n",
       "      <td>30.0</td>\n",
       "      <td>30.0</td>\n",
       "      <td>1.0</td>\n",
       "      <td>1.0</td>\n",
       "    </tr>\n",
       "    <tr>\n",
       "      <th>123835941</th>\n",
       "      <td>290.0</td>\n",
       "      <td>CABO DE SANTO AGOSTINHO</td>\n",
       "      <td>171.0</td>\n",
       "      <td>PONTE DOS CARVALHOS</td>\n",
       "      <td>14.0</td>\n",
       "      <td>14.0</td>\n",
       "      <td>1.0</td>\n",
       "      <td>1.0</td>\n",
       "    </tr>\n",
       "    <tr>\n",
       "      <th>123835947</th>\n",
       "      <td>80.0</td>\n",
       "      <td>ALTINHO</td>\n",
       "      <td>8.0</td>\n",
       "      <td>ALTINHO</td>\n",
       "      <td>25.0</td>\n",
       "      <td>25.0</td>\n",
       "      <td>1.0</td>\n",
       "      <td>1.0</td>\n",
       "    </tr>\n",
       "  </tbody>\n",
       "</table>\n",
       "</div>"
      ],
      "text/plain": [
       "           MUNI_ID                MUNICIPIO  LOCA_ID           LOCALIDADE  \\\n",
       "RECA_ID                                                                     \n",
       "123835935    790.0  JABOATAO DOS GUARARAPES    341.0             PRAZERES   \n",
       "123835936   1160.0                   RECIFE    342.0           JANGADINHA   \n",
       "123835938   1450.0                  SURUBIM    145.0              SURUBIM   \n",
       "123835941    290.0  CABO DE SANTO AGOSTINHO    171.0  PONTE DOS CARVALHOS   \n",
       "123835947     80.0                  ALTINHO      8.0              ALTINHO   \n",
       "\n",
       "           RECA_CONSUMOAGUA  RECA_VOCONSUMOFATURADO  RECA_ICHIDROMETRO  \\\n",
       "RECA_ID                                                                  \n",
       "123835935               1.0                    10.0                1.0   \n",
       "123835936              37.0                    37.0                1.0   \n",
       "123835938              30.0                    30.0                1.0   \n",
       "123835941              14.0                    14.0                1.0   \n",
       "123835947              25.0                    25.0                1.0   \n",
       "\n",
       "           CATG_ID  \n",
       "RECA_ID             \n",
       "123835935      1.0  \n",
       "123835936      1.0  \n",
       "123835938      1.0  \n",
       "123835941      1.0  \n",
       "123835947      1.0  "
      ]
     },
     "execution_count": 15,
     "metadata": {},
     "output_type": "execute_result"
    }
   ],
   "source": [
    "consumo_faturado.head()"
   ]
  },
  {
   "cell_type": "markdown",
   "metadata": {},
   "source": [
    "As colunas em um DataFrame funcionam como atributos de um objeto e são usadas para acessar os valores contidos"
   ]
  },
  {
   "cell_type": "code",
   "execution_count": 25,
   "metadata": {},
   "outputs": [
    {
     "data": {
      "text/plain": [
       "0    JABOATAO DOS GUARARAPES\n",
       "1                     RECIFE\n",
       "2                    SURUBIM\n",
       "3    CABO DE SANTO AGOSTINHO\n",
       "4                    ALTINHO\n",
       "Name: MUNICIPIO, dtype: object"
      ]
     },
     "execution_count": 25,
     "metadata": {},
     "output_type": "execute_result"
    }
   ],
   "source": [
    "consumo_faturado.MUNICIPIO.head()"
   ]
  },
  {
   "cell_type": "markdown",
   "metadata": {},
   "source": [
    "Uma outra forma de acessar os valores de uma coluna é atraves do operador de indexação []"
   ]
  },
  {
   "cell_type": "code",
   "execution_count": 29,
   "metadata": {},
   "outputs": [
    {
     "data": {
      "text/plain": [
       "0               PRAZERES\n",
       "1             JANGADINHA\n",
       "2                SURUBIM\n",
       "3    PONTE DOS CARVALHOS\n",
       "4                ALTINHO\n",
       "Name: LOCALIDADE, dtype: object"
      ]
     },
     "execution_count": 29,
     "metadata": {},
     "output_type": "execute_result"
    }
   ],
   "source": [
    "consumo_faturado['LOCALIDADE'].head()"
   ]
  },
  {
   "cell_type": "code",
   "execution_count": 30,
   "metadata": {},
   "outputs": [
    {
     "data": {
      "text/plain": [
       "'CARUARU'"
      ]
     },
     "execution_count": 30,
     "metadata": {},
     "output_type": "execute_result"
    }
   ],
   "source": [
    "consumo_faturado['LOCALIDADE'][10]"
   ]
  },
  {
   "cell_type": "code",
   "execution_count": null,
   "metadata": {
    "collapsed": true
   },
   "outputs": [],
   "source": []
  }
 ],
 "metadata": {
  "kernelspec": {
   "display_name": "Python 3",
   "language": "python",
   "name": "python3"
  },
  "language_info": {
   "codemirror_mode": {
    "name": "ipython",
    "version": 3
   },
   "file_extension": ".py",
   "mimetype": "text/x-python",
   "name": "python",
   "nbconvert_exporter": "python",
   "pygments_lexer": "ipython3",
   "version": "3.6.3"
  }
 },
 "nbformat": 4,
 "nbformat_minor": 2
}
